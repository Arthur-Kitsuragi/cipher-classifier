{
 "cells": [
  {
   "cell_type": "code",
   "execution_count": 1,
   "id": "5b5b5dc2-0c40-4259-b821-2969861b3312",
   "metadata": {},
   "outputs": [
    {
     "name": "stdout",
     "output_type": "stream",
     "text": [
      "Current working directory: C:\\Users\\Матвей\n"
     ]
    }
   ],
   "source": [
    "import os \n",
    "cwd = os.getcwd() \n",
    "print(\"Current working directory:\", cwd) \n"
   ]
  },
  {
   "cell_type": "code",
   "execution_count": 2,
   "id": "374ba25f-bb4a-43a5-8e00-afa895191539",
   "metadata": {},
   "outputs": [
    {
     "data": {
      "text/plain": [
       "['1',\n",
       " '2',\n",
       " '3',\n",
       " '4',\n",
       " '5',\n",
       " '6',\n",
       " '7',\n",
       " '8',\n",
       " '9',\n",
       " 'ETEXT',\n",
       " 'ETEXT00',\n",
       " 'ETEXT01',\n",
       " 'ETEXT02',\n",
       " 'ETEXT03',\n",
       " 'ETEXT04',\n",
       " 'ETEXT05',\n",
       " 'ETEXT06',\n",
       " 'ETEXT90',\n",
       " 'ETEXT91',\n",
       " 'ETEXT92',\n",
       " 'ETEXT93',\n",
       " 'ETEXT94',\n",
       " 'ETEXT95',\n",
       " 'ETEXT96',\n",
       " 'ETEXT97',\n",
       " 'ETEXT98',\n",
       " 'ETEXT99',\n",
       " 'IMAGES',\n",
       " 'INDEXES',\n",
       " 'STYLES']"
      ]
     },
     "execution_count": 2,
     "metadata": {},
     "output_type": "execute_result"
    }
   ],
   "source": [
    "path = \"E:/pgdvd042010/\" \n",
    "dir_list = os.listdir(path)\n",
    "dir_list"
   ]
  },
  {
   "cell_type": "code",
   "execution_count": 3,
   "id": "eb699ee3-9744-4ff3-8799-4215ac93d047",
   "metadata": {},
   "outputs": [],
   "source": [
    "#txtlen = 200"
   ]
  },
  {
   "cell_type": "code",
   "execution_count": 23,
   "id": "e2ad57e9-5854-452a-9700-996225f46d3a",
   "metadata": {},
   "outputs": [
    {
     "name": "stdout",
     "output_type": "stream",
     "text": [
      "0\n",
      "0\n",
      "0\n",
      "0\n",
      "0\n",
      "0\n",
      "10001\n",
      "100\n",
      "10002-8\n",
      "100\n",
      "10003\n",
      "100\n",
      "10004\n",
      "10004-8\n",
      "10005\n",
      "10005-8\n",
      "10006\n",
      "10006-8\n",
      "10007-8\n",
      "10008-8\n",
      "10009\n",
      "10010\n",
      "10011\n",
      "10011-8\n",
      "10012\n",
      "10012-8\n",
      "10013\n",
      "10013-8\n",
      "10013-h/10013-h\n",
      "10013-h/images/\n",
      "10013-h/images/01\n",
      "10013-h/images/02a\n",
      "10013-h/images/02b\n",
      "10013-h/images/03a\n",
      "10013-h/images/03b\n",
      "10013-h/images/03c\n",
      "10013-h/images/05\n",
      "10013-h/images/06\n",
      "10013-h/images/07\n",
      "10013-h/images/08\n",
      "10013-h/images/09\n",
      "10013-h/images/11\n",
      "10013-h/images/12\n",
      "10013-h/images/13\n",
      "10013-h/images/14\n",
      "10013-h/images/16\n",
      "10013-h/images/Thumbs\n",
      "10014\n",
      "10014-8\n",
      "10014-h/10014-h\n",
      "10014-h/images/01\n",
      "10014-h/images/04\n",
      "10014-h/images/05\n",
      "10014-h/images/06a\n",
      "10014-h/images/06b\n",
      "10014-h/images/07a\n",
      "10014-h/images/07b\n",
      "10014-h/images/08\n",
      "10014-h/images/09\n",
      "10014-h/images/12\n",
      "10014-h/images/13\n",
      "10014-h/images/14\n",
      "10014-h/images/16\n",
      "10014-h/images/Thumbs\n",
      "10015\n",
      "10015-h/10015-h\n",
      "10015-h/images/\n",
      "10015-h/images/01\n",
      "10015-h/images/04a\n",
      "10015-h/images/04b\n",
      "10015-h/images/05\n",
      "10015-h/images/06\n",
      "10015-h/images/07\n",
      "10015-h/images/08\n",
      "10015-h/images/09\n",
      "10015-h/images/12a\n",
      "10015-h/images/12b\n",
      "10015-h/images/13\n",
      "10015-h/images/14\n",
      "10015-h/images/16\n",
      "10015-h/images/Thumbs\n",
      "10016\n",
      "10016-8\n",
      "10016-h/10016-h\n",
      "10016-h/images/\n",
      "10016-h/images/01\n",
      "10016-h/images/05\n",
      "10016-h/images/06a\n",
      "10016-h/images/06b\n",
      "10016-h/images/06c\n",
      "10016-h/images/06d\n",
      "10016-h/images/07\n",
      "10016-h/images/08\n",
      "10016-h/images/09\n",
      "10016-h/images/12\n",
      "10016-h/images/13\n",
      "10016-h/images/14\n",
      "10016-h/images/16\n",
      "10017\n",
      "10017-8\n",
      "10017-h/10017-h\n",
      "10017-h/images/\n",
      "10017-h/images/01\n",
      "10017-h/images/01a\n",
      "10017-h/images/05\n",
      "10017-h/images/06a\n",
      "10017-h/images/06b\n",
      "10017-h/images/06c\n",
      "10017-h/images/07\n",
      "10017-h/images/08\n",
      "10017-h/images/09\n",
      "10017-h/images/12\n",
      "10017-h/images/13\n",
      "10017-h/images/14\n",
      "10017-h/images/16\n",
      "10018\n",
      "10018-8\n",
      "10018-h/10018-h\n",
      "10018-h/images/\n",
      "10018-h/images/01\n",
      "10018-h/images/03\n",
      "10018-h/images/04\n",
      "10018-h/images/05\n",
      "10018-h/images/06\n",
      "10018-h/images/08\n",
      "10018-h/images/09\n",
      "10018-h/images/11\n",
      "10018-h/images/12\n",
      "10018-h/images/13\n",
      "10018-h/images/14\n",
      "10018-h/images/16\n",
      "10018-h/images/Thumbs\n",
      "10018-h\n",
      "10019\n",
      "10019-8\n",
      "10019-h/10019-h\n",
      "10019-h/images/\n",
      "10019-h/images/01\n",
      "10019-h/images/01a\n",
      "10019-h/images/05\n",
      "10019-h/images/06a\n",
      "10019-h/images/06b\n",
      "10019-h/images/07\n",
      "10019-h/images/08\n",
      "10019-h/images/09\n",
      "10019-h/images/12\n",
      "10019-h/images/13\n",
      "10019-h/images/13a\n",
      "10019-h/images/14\n",
      "10019-h/images/16\n",
      "1001\n",
      "1005\n",
      "1006\n",
      "1007\n",
      "10020/10020\n",
      "10020/10020-8\n",
      "10021\n",
      "10021-8\n",
      "10022/10022\n",
      "10023\n",
      "10024\n",
      "10024-8\n",
      "10025\n",
      "10025-8\n",
      "10026\n",
      "10026-8\n",
      "10027\n",
      "10028\n",
      "10029-8\n",
      "10030-8\n",
      "10031\n",
      "10031-8\n",
      "10031-h/10031-h\n",
      "10031-h/images/\n",
      "10031-h/images/PG1\n",
      "10031-h/images/PG2\n",
      "10031-h/images/PI1\n",
      "10031-h/images/PI2\n",
      "10032\n",
      "10032-8\n",
      "10032-h/10032-h\n",
      "10032-h/images/\n",
      "10032-h/images/01\n",
      "10032-h/images/01a\n",
      "10032-h/images/05\n",
      "10032-h/images/06a\n",
      "10032-h/images/06b\n",
      "10032-h/images/06c\n",
      "10032-h/images/06d\n",
      "10032-h/images/07a\n",
      "10032-h/images/07b\n",
      "10032-h/images/08\n",
      "10032-h/images/09\n",
      "10032-h/images/12\n",
      "10032-h/images/13\n",
      "10032-h/images/14\n",
      "10032-h/images/16\n",
      "10033\n",
      "10033-8\n",
      "10033-h/10033-h\n",
      "10033-h/images/\n",
      "10033-h/images/01\n",
      "10033-h/images/01a\n",
      "10033-h/images/04\n",
      "10033-h/images/05\n",
      "10033-h/images/06a\n",
      "10033-h/images/06b\n",
      "10033-h/images/06c\n",
      "10033-h/images/07\n",
      "10033-h/images/08\n",
      "10033-h/images/09\n",
      "10033-h/images/12\n",
      "10033-h/images/13\n",
      "10033-h/images/14\n",
      "10033-h/images/16\n",
      "10034\n",
      "10034-8\n",
      "10034-h/10034-h\n",
      "10034-h/images/\n",
      "10034-h/images/01\n",
      "10034-h/images/01a\n",
      "10034-h/images/05\n",
      "10034-h/images/06\n",
      "10034-h/images/07\n",
      "10034-h/images/08\n",
      "10034-h/images/09\n",
      "10034-h/images/12\n",
      "10034-h/images/13\n",
      "10034-h/images/14\n",
      "10034-h/images/16\n",
      "10035\n",
      "10035-8\n",
      "10035-h/10035-h\n",
      "10035-h/images/01\n",
      "10035-h/images/03\n",
      "10035-h/images/05\n",
      "10035-h/images/06\n",
      "10035-h/images/07a\n",
      "10035-h/images/07b\n",
      "10035-h/images/07c\n",
      "10035-h/images/07d\n",
      "10035-h/images/07e\n",
      "10035-h/images/08\n",
      "10035-h/images/09\n",
      "10035-h/images/12\n",
      "10035-h/images/14\n",
      "10035-h/images/16\n",
      "10036\n",
      "10036-8\n",
      "10036-h/10036-h\n",
      "10036-h/images/17\n",
      "10036-h/images/21\n",
      "10036-h/images/22a\n",
      "10036-h/images/22b\n",
      "10036-h/images/22c\n",
      "10036-h/images/22d\n",
      "10036-h/images/24\n",
      "10036-h/images/25\n",
      "10036-h/images/28\n",
      "10036-h/images/29\n",
      "10036-h/images/30\n",
      "10036-h/images/32\n",
      "10037\n",
      "10037-8\n",
      "10038\n",
      "10038-8\n",
      "10039\n",
      "10039-8\n",
      "10040\n",
      "10041\n",
      "10041-8\n",
      "10042\n",
      "10042-8\n",
      "10043\n",
      "10043-8\n",
      "10044/10044\n",
      "10045\n",
      "10046\n",
      "10047\n",
      "10047-8\n",
      "10047-h/10047-h\n",
      "10047-h/images/33\n",
      "10047-h/images/37\n",
      "10047-h/images/38a\n",
      "10047-h/images/38b\n",
      "10047-h/images/38c\n",
      "10047-h/images/38d\n",
      "10047-h/images/40\n",
      "10047-h/images/41\n",
      "10047-h/images/44\n",
      "10047-h/images/45\n",
      "10047-h/images/46a\n",
      "10047-h/images/46b\n",
      "10047-h/images/48\n",
      "10048\n",
      "10049\n",
      "10050\n",
      "10051\n",
      "10052\n",
      "10052-8\n",
      "10053\n",
      "10053-8\n",
      "10054/10054\n",
      "10054/10054-8\n",
      "10055\n",
      "10055-8\n",
      "10056/10056-8\n",
      "10057/10057\n"
     ]
    }
   ],
   "source": [
    "from zipfile import ZipFile\n",
    "import re\n",
    "amount = 50000\n",
    "count = 0\n",
    "end_flag = False\n",
    "with open('E:/practise_pred/pred.txt', 'w+', encoding=\"utf-8\") as f:\n",
    "    for (root, dirs, files) in os.walk(path, topdown=True):\n",
    "        if (end_flag):\n",
    "            break\n",
    "        #print(dirs)\n",
    "        if (count % 100 == 0):\n",
    "            print(count)\n",
    "        for file in files:\n",
    "            if (end_flag):\n",
    "                break\n",
    "            filename, file_extension = os.path.splitext(file)\n",
    "            if file_extension == \".ZIP\" :\n",
    "                filepath = os.path.join(root, file)\n",
    "                with ZipFile(filepath, 'r') as zip:\n",
    "                    for info in zip.infolist(): \n",
    "                        if (end_flag):\n",
    "                            break\n",
    "                        fl, fl_ext = os.path.splitext(info.filename)\n",
    "                        print(fl)\n",
    "                        if (fl_ext == \".txt\"):\n",
    "                            data = zip.read(info.filename)\n",
    "                            if (data[0:500].decode(\"latin-1\").find('English') == -1):\n",
    "                                continue\n",
    "                            begin = 500 \n",
    "                            while (begin + 300 < len(data) - 22000):\n",
    "                                stk = data[begin:begin+300].decode(\"latin-1\")\n",
    "                                regex = re.compile('[^a-zA-Z ]')\n",
    "                                result = regex.sub('', stk)\n",
    "                                if len(result) >= 200 :\n",
    "                                    count += 1\n",
    "                                    result = result[0:200]\n",
    "                                    f.write(result)\n",
    "                                    f.write('\\r\\n')\n",
    "                                    if (count == amount):\n",
    "                                        end_flag = True\n",
    "                                        break\n",
    "                                begin += 300"
   ]
  },
  {
   "cell_type": "code",
   "execution_count": 24,
   "id": "d7e5907d-81df-4153-ba4f-cd583ee7f79d",
   "metadata": {},
   "outputs": [
    {
     "name": "stdout",
     "output_type": "stream",
     "text": [
      "50000\n"
     ]
    }
   ],
   "source": [
    "print(count)"
   ]
  },
  {
   "cell_type": "code",
   "execution_count": 35,
   "id": "6eb98327-6820-4346-af67-e8ca05027a9d",
   "metadata": {},
   "outputs": [
    {
     "name": "stdout",
     "output_type": "stream",
     "text": [
      "Requirement already satisfied: SecretPy in c:\\users\\матвей\\appdata\\local\\programs\\python\\python312\\lib\\site-packages (0.12.0)\n",
      "Note: you may need to restart the kernel to use updated packages.\n"
     ]
    },
    {
     "name": "stderr",
     "output_type": "stream",
     "text": [
      "\n",
      "[notice] A new release of pip is available: 23.2.1 -> 24.1.2\n",
      "[notice] To update, run: python.exe -m pip install --upgrade pip\n"
     ]
    }
   ],
   "source": [
    "pip install SecretPy"
   ]
  },
  {
   "cell_type": "code",
   "execution_count": 25,
   "id": "d21d228f-71c1-4191-aae9-27501ea43c84",
   "metadata": {},
   "outputs": [],
   "source": [
    "from secretpy import Bazeries, CryptMachine, alphabets\n",
    "from secretpy.cmdecorators import UpperCase, SaveAll\n",
    "\n",
    "plaintext = u\"Whoever has fffff\"\n",
    "key = (81257, u\"eightyonethousandtwohundredfiftyseven\")\n",
    "cm = CryptMachine(Bazeries(), key)\n",
    "cm = SaveAll(cm)\n",
    "alphabet = alphabets.ENGLISH_SQUARE_IJ\n",
    "cm.set_alphabet(alphabet)\n",
    "# # cm.set_key(key)\n",
    "\n",
    "# enc = cm.encrypt(plaintext)\n",
    "# print(enc)"
   ]
  },
  {
   "cell_type": "code",
   "execution_count": 26,
   "id": "5d57df1b-7a9f-493a-a4f0-4dda731e3110",
   "metadata": {},
   "outputs": [],
   "source": [
    "with open('E:/practise_pred/bazeries_81257.txt', 'w+', encoding=\"utf-8\") as f1:\n",
    "    with open('E:/practise_pred/pred.txt', 'r', encoding=\"utf-8\") as f:\n",
    "        while True:\n",
    "            line = f.readline()\n",
    "            if not line:\n",
    "                break\n",
    "            if (len(line) > 1) : \n",
    "                enc = cm.encrypt(line)\n",
    "                f1.write(enc)\n",
    "                f1.write('\\r\\n')"
   ]
  },
  {
   "cell_type": "code",
   "execution_count": 27,
   "id": "d46d43b1-ac74-48ab-9d43-39c1acfa12b4",
   "metadata": {},
   "outputs": [],
   "source": [
    "from secretpy import Bazeries, CryptMachine, alphabets\n",
    "from secretpy.cmdecorators import UpperCase, SaveAll\n",
    "mass = [(143214,u\"onehundredfortythreethousandtwohundredfourteen\"),(3215124,u\"threemilliontwohundredfifteenthousandonehundredtwentyfour\"),(32151248,u\"thirtytwomilliononehundredfiftyonethousandtwohundredfortyeight\")] #6,7,8\n",
    "for it in mass:\n",
    "    cm = (CryptMachine(Bazeries()))\n",
    "    cm = SaveAll(cm)\n",
    "    key = it\n",
    "    alphabet = alphabets.ENGLISH_SQUARE_IJ\n",
    "    cm.set_alphabet(alphabet)\n",
    "    cm.set_key(key)\n",
    "    with open('E:/practise_pred/bazeries_' + str(it[0]) + '.txt', 'w+', encoding=\"utf-8\") as f1:\n",
    "        with open('E:/practise_pred/pred.txt', 'r', encoding=\"utf-8\") as f:\n",
    "            while True:\n",
    "                line = f.readline()\n",
    "                if not line:\n",
    "                    break\n",
    "                if (len(line) > 1) : \n",
    "                    enc = cm.encrypt(line)\n",
    "                    f1.write(enc)\n",
    "                    f1.write('\\r\\n')"
   ]
  },
  {
   "cell_type": "code",
   "execution_count": 28,
   "id": "aff89ba9-22de-44be-9a00-6237c7069207",
   "metadata": {},
   "outputs": [],
   "source": [
    "from secretpy import Beaufort, CryptMachine, alphabets\n",
    "from secretpy.cmdecorators import UpperCase, SaveAll\n",
    "mass = [\"rqwrf\", \"fbxzaz\", \"xwjpkmn\", \"qpxkayre\"] #5,6,7,8\n",
    "for it in mass:\n",
    "    cm = (CryptMachine(Beaufort()))\n",
    "    cm = SaveAll(cm)\n",
    "    key = it\n",
    "    alphabet = alphabets.ENGLISH_SQUARE_IJ\n",
    "    cm.set_alphabet(alphabet)\n",
    "    cm.set_key(key)\n",
    "    with open('E:/practise_pred/beaufort_' + str(it) + '.txt', 'w+', encoding=\"utf-8\") as f1:\n",
    "        with open('E:/practise_pred/pred.txt', 'r', encoding=\"utf-8\") as f:\n",
    "            while True:\n",
    "                line = f.readline()\n",
    "                if not line:\n",
    "                    break\n",
    "                if (len(line) > 1) : \n",
    "                    enc = cm.encrypt(line)\n",
    "                    f1.write(enc)\n",
    "                    f1.write('\\r\\n')"
   ]
  },
  {
   "cell_type": "code",
   "execution_count": 29,
   "id": "230675a9-6e4e-4b93-9381-a807daf7c6d8",
   "metadata": {},
   "outputs": [],
   "source": [
    "from secretpy import Playfair, CryptMachine, alphabets\n",
    "from secretpy.cmdecorators import UpperCase, SaveAll\n",
    "a1 = [\n",
    "    u\"p\", u\"l\", u\"a\", u\"y\", u\"f\",\n",
    "    u\"i\", u\"r\", u\"e\", u\"x\", u\"m\",\n",
    "    u\"b\", u\"c\", u\"d\", u\"g\", u\"h\",\n",
    "    u\"k\", u\"n\", u\"o\", u\"q\", u\"s\",\n",
    "    u\"t\", u\"u\", u\"v\", u\"w\", u\"z\",\n",
    "]\n",
    "a2  = [\n",
    "    u\"p\", u\"l\", u\"a\", u\"y\", u\"f\",\n",
    "    u\"i\", u\"r\", u\"e\", u\"x\", u\"h\",\n",
    "    u\"b\", u\"n\", u\"d\", u\"q\", u\"m\",\n",
    "    u\"k\", u\"c\", u\"o\", u\"g\", u\"s\",\n",
    "    u\"t\", u\"u\", u\"z\", u\"w\", u\"v\",\n",
    "] \n",
    "a3 = [\n",
    "    u\"r\", u\"l\", u\"y\", u\"a\", u\"f\",\n",
    "    u\"i\", u\"p\", u\"e\", u\"x\", u\"m\",\n",
    "    u\"b\", u\"c\", u\"d\", u\"o\", u\"h\",\n",
    "    u\"k\", u\"n\", u\"g\", u\"q\", u\"s\",\n",
    "    u\"u\", u\"t\", u\"v\", u\"w\", u\"z\",\n",
    "]\n",
    "a4 = [\n",
    "    u\"p\", u\"l\", u\"a\", u\"y\", u\"f\",\n",
    "    u\"w\", u\"r\", u\"e\", u\"x\", u\"m\",\n",
    "    u\"b\", u\"c\", u\"d\", u\"g\", u\"s\",\n",
    "    u\"t\", u\"u\", u\"o\", u\"q\", u\"h\",\n",
    "    u\"k\", u\"n\", u\"v\", u\"i\", u\"z\",\n",
    "]\n",
    "mass = [a1,a2,a3,a4]\n",
    "for it in mass:\n",
    "    cm = (CryptMachine(Playfair()))\n",
    "    cm = SaveAll(cm)\n",
    "    key = it\n",
    "    alphabet = alphabets.ENGLISH_SQUARE_IJ\n",
    "    cm.set_alphabet(alphabet)\n",
    "    cm.set_key(key)\n",
    "    tt = ''\n",
    "    for r in it:\n",
    "        tt += r\n",
    "    with open('E:/practise_pred/playfair_' + tt + '.txt', 'w+', encoding=\"utf-8\") as f1:\n",
    "        with open('E:/practise_pred/pred.txt', 'r', encoding=\"utf-8\") as f:\n",
    "            while True:\n",
    "                line = f.readline()\n",
    "                if not line:\n",
    "                    break\n",
    "                if (len(line) > 1) : \n",
    "                    enc = cm.encrypt(line)\n",
    "                    f1.write(enc)\n",
    "                    f1.write('\\r\\n')"
   ]
  },
  {
   "cell_type": "code",
   "execution_count": 30,
   "id": "141a1ffa-6f09-4c93-b4ae-af2b2441a265",
   "metadata": {},
   "outputs": [],
   "source": [
    "from secretpy import TwoSquare, CryptMachine, alphabets\n",
    "from secretpy.cmdecorators import UpperCase, SaveAll\n",
    "mass = [(u\"dsads\", u\"dedwd\"),(u\"rwqrew\", u\"rrnbcd\"),(u\"example\", u\"keyword\"), (u\"plvbazik\", u\"ioujdmns\")]\n",
    "for it in mass:\n",
    "    cm = (CryptMachine(TwoSquare()))\n",
    "    cm = SaveAll(cm)\n",
    "    key = it\n",
    "    alphabet = alphabets.ENGLISH_SQUARE_IJ\n",
    "    cm.set_alphabet(alphabet)\n",
    "    cm.set_key(key)\n",
    "    with open('E:/practise_pred/twosquare_' + it[0] + \"_\" + it[1] + '.txt', 'w+', encoding=\"utf-8\") as f1:\n",
    "        with open('E:/practise_pred/pred.txt', 'r', encoding=\"utf-8\") as f:\n",
    "            while True:\n",
    "                line = f.readline()\n",
    "                if not line:\n",
    "                    break\n",
    "                if (len(line) > 1) : \n",
    "                    enc = cm.encrypt(line)\n",
    "                    f1.write(enc)\n",
    "                    f1.write('\\r\\n')"
   ]
  },
  {
   "cell_type": "code",
   "execution_count": 31,
   "id": "56b28568-1c0a-4f67-bfd0-db1c1761f122",
   "metadata": {},
   "outputs": [],
   "source": [
    "from secretpy import Bifid, CryptMachine, alphabets\n",
    "from secretpy.cmdecorators import UpperCase, SaveAll\n",
    "mass = [14325, 512345, 8740987, 12345678]\n",
    "for it in mass:\n",
    "    cm = (CryptMachine(Bifid()))\n",
    "    cm = SaveAll(cm)\n",
    "    key = it\n",
    "    alphabet = alphabets.ENGLISH_SQUARE_IJ\n",
    "    cm.set_alphabet(alphabet)\n",
    "    cm.set_key(key)\n",
    "    with open('E:/practise_pred/bifid_' + str(it) + '.txt', 'w+', encoding=\"utf-8\") as f1:\n",
    "        with open('E:/practise_pred/pred.txt', 'r', encoding=\"utf-8\") as f:\n",
    "            while True:\n",
    "                line = f.readline()\n",
    "                if not line:\n",
    "                    break\n",
    "                if (len(line) > 1) : \n",
    "                    enc = cm.encrypt(line)\n",
    "                    f1.write(enc)\n",
    "                    f1.write('\\r\\n')"
   ]
  },
  {
   "cell_type": "code",
   "execution_count": 32,
   "id": "146a1e0c-d428-4596-a703-261e8138410b",
   "metadata": {},
   "outputs": [],
   "source": [
    "#calculating sdd\n",
    "# English single letter-digraph discrepancy score table\n",
    "sdd = [\n",
    "   [ 0,3,4,2,0,0,1,0,0,0,4,5,2,6,0,2,0,4,4,3,0,6,0,0,3,5],\n",
    "   [ 0,0,0,0,6,0,0,0,0,9,0,7,0,0,0,0,0,0,0,0,7,0,0,0,7,0],\n",
    "    [3,0,0,0,2,0,0,6,0,0,8,0,0,0,6,0,5,0,0,0,3,0,0,0,0,0],\n",
    "    [1,6,0,0,1,0,0,0,4,4,0,0,0,0,0,0,0,0,0,1,0,0,4,0,1,0],\n",
    "    [0,0,4,5,0,0,0,0,0,3,0,0,3,2,0,3,6,5,4,0,0,4,3,8,0,0],\n",
    "    [3,0,0,0,0,5,0,0,2,1,0,0,0,0,5,0,0,2,0,4,1,0,0,0,0,0],\n",
    "    [2,0,0,0,1,0,0,6,1,0,0,0,0,0,2,0,0,1,0,0,2,0,0,0,0,0],\n",
    "    [5,0,0,0,7,0,0,0,5,0,0,0,0,0,0,0,0,0,0,0,0,0,0,0,0,0],\n",
    "    [0,0,5,0,0,0,4,0,0,0,1,1,3,7,0,0,0,0,5,3,0,5,0,0,0,8],\n",
    "    [0,0,0,0,6,0,0,0,0,0,0,0,0,0,5,0,0,0,0,0,9,0,0,0,0,0],\n",
    "    [0,0,0,0,6,0,0,0,5,0,0,0,0,4,0,0,0,0,0,0,0,0,1,0,0,0],\n",
    "    [2,0,0,4,2,0,0,0,3,0,0,7,0,0,0,0,0,0,0,0,0,0,0,0,7,0],\n",
    "    [5,5,0,0,5,0,0,0,2,0,0,0,0,0,2,6,0,0,0,0,2,0,0,0,6,0],\n",
    "    [0,0,4,7,0,0,8,0,0,2,2,0,0,0,0,0,3,0,0,4,0,0,0,0,0,0],\n",
    "    [0,2,0,0,0,8,0,0,0,0,4,0,5,5,0,2,0,4,0,0,7,4,5,0,0,0],\n",
    "    [3,0,0,0,3,0,0,0,0,0,0,5,0,0,5,7,0,6,0,0,3,0,0,0,0,0],\n",
    "    [0,0,0,0,0,0,0,0,0,0,0,0,0,0,0,0,0,0,0,0,9,0,0,0,0,0],\n",
    "    [1,0,0,0,4,0,0,0,2,0,4,0,0,0,2,0,0,0,0,0,0,0,0,0,5,0],\n",
    "    [1,1,0,0,0,0,0,1,2,0,0,0,0,0,1,4,4,0,1,4,2,0,4,0,0,0],\n",
    "    [0,0,0,0,0,0,0,8,3,0,0,0,0,0,3,0,0,0,0,0,0,0,2,0,0,0],\n",
    "    [0,4,3,0,0,0,5,0,0,0,0,6,2,3,0,6,0,6,5,3,0,0,0,0,0,6],\n",
    "    [0,0,0,0,8,0,0,0,4,0,0,0,0,0,0,0,0,0,0,0,0,0,0,0,0,0],\n",
    "    [6,0,0,0,2,0,0,6,6,0,0,0,0,0,2,0,0,0,0,0,0,0,0,0,0,0],\n",
    "    [3,0,7,0,1,0,0,0,2,0,0,0,0,0,0,9,0,0,0,5,0,0,0,6,0,0],\n",
    "    [1,6,2,0,0,2,0,0,0,6,0,0,2,0,6,2,1,0,2,1,0,0,6,0,0,0],\n",
    "    [2,0,0,0,8,0,0,0,0,6,0,1,0,0,0,0,0,0,0,0,0,0,0,0,0,9]\n",
    "]\n",
    "ascii_lowercase = 'abcdefghijklmnopqrstuvwxyz'\n",
    "eng_alp = {}\n",
    "for i in range (len(ascii_lowercase)):\n",
    "    eng_alp[ascii_lowercase[i]] = i\n",
    "def SDD(strk): #normalize?\n",
    "    strk = strk.lower()\n",
    "    mass = strk.split()\n",
    "    sumi = 0\n",
    "    counter = 0\n",
    "    for it in mass:\n",
    "        for i in range (len(it) - 1):\n",
    "            sumi += sdd[eng_alp[it[i]]][eng_alp[it[i + 1]]]\n",
    "            counter += 1\n",
    "    if counter == 0: return 0\n",
    "    return sumi / counter\n",
    "        "
   ]
  },
  {
   "cell_type": "code",
   "execution_count": 33,
   "id": "9e41d68c-2e69-4302-82e4-60376f700a1d",
   "metadata": {},
   "outputs": [
    {
     "name": "stdout",
     "output_type": "stream",
     "text": [
      "0.9859154929577465\n"
     ]
    }
   ],
   "source": [
    "s = \"dnoez RYUIX ZXWAN DL DKXZ BFDXNOD LMYMKQBAK SQSDG WCSPCMDDTDDDOIY Hasowunc qs Dnc Lqfwxe Pse Ddwfytn\"\n",
    "print(SDD(s))"
   ]
  },
  {
   "cell_type": "code",
   "execution_count": 34,
   "id": "814c4610-adab-4e86-b03f-f3810f0012ce",
   "metadata": {},
   "outputs": [],
   "source": [
    "#calculating CSS\n",
    "\n",
    "freq_dict = {\n",
    "  'a' : 0.08167, 'b' : 0.01492, 'c' : 0.02782, 'd' : 0.04253, 'e' : 0.12702, 'f' : 0.02228,\n",
    "  'g' : 0.02015, 'h' : 0.06094, 'i' : 0.06966, 'j' : 0.00153, 'k' : 0.00772, 'l' : 0.04025,\n",
    "  'm' : 0.02406, 'n' : 0.06749, 'o' : 0.07507, 'p' : 0.01929, 'q' : 0.00095, 'r' : 0.05987,\n",
    "  's' : 0.06327, 't' : 0.09056, 'u' : 0.07258, 'v' : 0.00978, 'w' : 0.02360, 'x' : 0.00150,\n",
    "  'y' : 0.01974, 'z' : 0.00074\n",
    "}\n",
    "\n",
    "def CSS(strk):\n",
    "    strk = strk.lower()\n",
    "    sumi = 0\n",
    "    for w in freq_dict:\n",
    "        if w in freq_dict: sumi += (strk.count(w) / len(strk) - freq_dict[w])**2 / freq_dict[w]\n",
    "    return sumi"
   ]
  },
  {
   "cell_type": "code",
   "execution_count": 35,
   "id": "e5497d02-ee95-495c-8ba9-576b68f736b7",
   "metadata": {},
   "outputs": [
    {
     "name": "stdout",
     "output_type": "stream",
     "text": [
      "5.035324313919213\n"
     ]
    }
   ],
   "source": [
    "s = \"dnoez RYUIX ZXWAN DL DKXZ BFDXNOD LMYMKQBAK SQSDG WCSPCMDDTDDDOIY Hasowunc qs Dnc Lqfwxe Pse Ddwfytn\"\n",
    "print(CSS(s))"
   ]
  },
  {
   "cell_type": "code",
   "execution_count": 36,
   "id": "9e4fd359-9cf2-4058-85da-3f2e3481e6b8",
   "metadata": {},
   "outputs": [],
   "source": [
    "def NUC(strk):\n",
    "    strk = strk.lower()\n",
    "    return len(set(strk))"
   ]
  },
  {
   "cell_type": "code",
   "execution_count": 37,
   "id": "f56a0db8-1f3d-4b60-a081-b30c104df979",
   "metadata": {},
   "outputs": [
    {
     "name": "stdout",
     "output_type": "stream",
     "text": [
      "3\n"
     ]
    }
   ],
   "source": [
    "s = \"abcC\"\n",
    "print(NUC(s))"
   ]
  },
  {
   "cell_type": "code",
   "execution_count": 38,
   "id": "116da16f-ea38-4b1b-b874-7a09cb69acd6",
   "metadata": {},
   "outputs": [],
   "source": [
    "def IC(strk):\n",
    "    if len(strk) == 0 or len(strk) == 1:\n",
    "        return 0\n",
    "    strk = strk.lower()\n",
    "    sumi = 0\n",
    "    for w in freq_dict:\n",
    "        a = strk.count(w)\n",
    "        b = len(strk)\n",
    "        if w in freq_dict: sumi += a * (a - 1) / (b*(b-1))\n",
    "    return sumi"
   ]
  },
  {
   "cell_type": "code",
   "execution_count": 39,
   "id": "72d3a098-4e18-42be-b460-05f10e264381",
   "metadata": {},
   "outputs": [
    {
     "name": "stdout",
     "output_type": "stream",
     "text": [
      "0.03858585858585859\n"
     ]
    }
   ],
   "source": [
    "s = \"dnoez RYUIX ZXWAN DL DKXZ BFDXNOD LMYMKQBAK SQSDG WCSPCMDDTDDDOIY Hasowunc qs Dnc Lqfwxe Pse Ddwfytn\"\n",
    "print(IC(s))"
   ]
  },
  {
   "cell_type": "code",
   "execution_count": 40,
   "id": "beadf8b5-cb69-42de-b913-727f0cc0212f",
   "metadata": {},
   "outputs": [],
   "source": [
    "def MIC(strk):\n",
    "    maxi = -1\n",
    "    for period in range(1,16):\n",
    "        begin = period - 1\n",
    "        sumi = 0\n",
    "        for i in range (period):\n",
    "            cur = ''\n",
    "            counter = 0\n",
    "            for j in range(begin,len(strk),period):\n",
    "                cur += strk[j]\n",
    "            begin += 1\n",
    "            a = IC(cur)\n",
    "            sumi += a\n",
    "        if (sumi / period) > maxi : maxi = sumi / period\n",
    "    return maxi\n",
    "        "
   ]
  },
  {
   "cell_type": "code",
   "execution_count": 41,
   "id": "bd11ed96-bf5b-4079-994b-7fc7606e2e0e",
   "metadata": {},
   "outputs": [
    {
     "name": "stdout",
     "output_type": "stream",
     "text": [
      "0.05442176870748299\n"
     ]
    }
   ],
   "source": [
    "s = \"dnoez RYUIX ZXWAN DL DKXZ BFDXNOD LMYMKQBAK SQSDG WCSPCMDDTDDDOIY Hasowunc qs Dnc Lqfwxe Pse Ddwfytn\"\n",
    "print(MIC(s))"
   ]
  },
  {
   "cell_type": "code",
   "execution_count": 42,
   "id": "4a072ab3-7cf5-4e1f-b4fd-f3c5a0537380",
   "metadata": {},
   "outputs": [],
   "source": [
    "def MKA(strk):\n",
    "    maxi = -1\n",
    "    for period in range (1,16):\n",
    "        st = strk[0:len(strk)-period]\n",
    "        st = (period * '!') + st\n",
    "        cur = 0\n",
    "        for i in range (len(strk)):\n",
    "            if (strk[i] == st[i]): cur += 1\n",
    "        if maxi < cur/len(strk): maxi = cur/len(strk)\n",
    "    return maxi"
   ]
  },
  {
   "cell_type": "code",
   "execution_count": 43,
   "id": "cc6a6055-d877-435d-821b-a2184d88f05b",
   "metadata": {},
   "outputs": [
    {
     "data": {
      "text/plain": [
       "0.07"
      ]
     },
     "execution_count": 43,
     "metadata": {},
     "output_type": "execute_result"
    }
   ],
   "source": [
    "s = \"dnoez RYUIX ZXWAN DL DKXZ BFDXNOD LMYMKQBAK SQSDG WCSPCMDDTDDDOIY Hasowunc qs Dnc Lqfwxe Pse Ddwfytn\"\n",
    "MKA(s)"
   ]
  },
  {
   "cell_type": "code",
   "execution_count": 44,
   "id": "df62a33c-81cc-458c-a844-9275c6aa9c02",
   "metadata": {},
   "outputs": [],
   "source": [
    "def DIC(strk):\n",
    "    strk = strk.lower()\n",
    "    sumi = 0\n",
    "    t = set()\n",
    "    for i in range(len(strk) - 1):\n",
    "        if (strk[i] in freq_dict and strk[i+1] in freq_dict and (strk[i] + strk[i+1]) not in t):\n",
    "            st = strk[i] + strk[i+1]\n",
    "            t.add(st)\n",
    "            a = 0\n",
    "            for k in range (len(strk) - 1):\n",
    "                if (strk[k] + strk[k+1] == st):\n",
    "                    a += 1\n",
    "            b = len(strk)\n",
    "            sumi += a * (a - 1) / ((b-1)*(b-2))\n",
    "    return sumi  "
   ]
  },
  {
   "cell_type": "code",
   "execution_count": 45,
   "id": "f578fe6b-305f-4cdc-b7df-9c48a0392f2c",
   "metadata": {},
   "outputs": [
    {
     "data": {
      "text/plain": [
       "1.0"
      ]
     },
     "execution_count": 45,
     "metadata": {},
     "output_type": "execute_result"
    }
   ],
   "source": [
    "DIC(\"aaaA\")"
   ]
  },
  {
   "cell_type": "code",
   "execution_count": 46,
   "id": "d78bb8f4-1149-4d63-84b4-c20980c5426b",
   "metadata": {},
   "outputs": [],
   "source": [
    "def EDI(strk):\n",
    "    strk = strk.lower()\n",
    "    sumi = 0\n",
    "    t = set()\n",
    "    for i in range(0, len(strk) - 2, 2):\n",
    "        if (strk[i] in freq_dict and strk[i+2] in freq_dict and (strk[i] + strk[i+2]) not in t):\n",
    "            st = strk[i] + strk[i+1]\n",
    "            t.add(st)\n",
    "            a = 0\n",
    "            for k in range (len(strk) - 1):\n",
    "                if (strk[k] + strk[k+1] == st):\n",
    "                    a += 1\n",
    "            b = len(strk)\n",
    "            sumi += a * (a - 1) / ((b-1)*(b-2))\n",
    "    return sumi  "
   ]
  },
  {
   "cell_type": "code",
   "execution_count": 47,
   "id": "4f1d03e3-64a3-47ee-a977-be440be0b186",
   "metadata": {},
   "outputs": [
    {
     "data": {
      "text/plain": [
       "0.6"
      ]
     },
     "execution_count": 47,
     "metadata": {},
     "output_type": "execute_result"
    }
   ],
   "source": [
    "EDI(\"aaaabA\")"
   ]
  },
  {
   "cell_type": "code",
   "execution_count": 48,
   "id": "a76e2eec-efbe-41aa-bbdd-a1c11e255f8e",
   "metadata": {},
   "outputs": [],
   "source": [
    "from math import sqrt\n",
    "def LR(strk):\n",
    "    strk = strk.lower()\n",
    "    st = set()\n",
    "    sumi = 0\n",
    "    for w in freq_dict:\n",
    "        if w not in st:\n",
    "            a = strk.count(w)\n",
    "            st.add(w)\n",
    "            if a == 3: sumi += 3\n",
    "    return sqrt(sumi)/len(strk)\n",
    "    \n",
    "    "
   ]
  },
  {
   "cell_type": "code",
   "execution_count": 49,
   "id": "0519f886-da19-42bf-98de-307a8780e8c5",
   "metadata": {},
   "outputs": [
    {
     "data": {
      "text/plain": [
       "0.40824829046386296"
      ]
     },
     "execution_count": 49,
     "metadata": {},
     "output_type": "execute_result"
    }
   ],
   "source": [
    "LR(\"ababba\")"
   ]
  },
  {
   "cell_type": "code",
   "execution_count": 50,
   "id": "7f1648a9-658e-4564-b79b-02c74a0e45ee",
   "metadata": {},
   "outputs": [],
   "source": [
    "def ROD(strk):\n",
    "    strk = strk.lower()\n",
    "    st = set()\n",
    "    sum_all = 0\n",
    "    sum_odd = 0\n",
    "    for i in range (len(strk) - 1):\n",
    "        cur_all = 0\n",
    "        cur_odd = 0\n",
    "        if (strk[i] not in st):\n",
    "            st.add(strk[i])\n",
    "            for j in range (i, len(strk)):\n",
    "                if (strk[i] == strk[j]):\n",
    "                    cur_all += 1\n",
    "                    if j % 2 == 1:\n",
    "                        cur_odd += 1\n",
    "        if cur_all > 1: sum_all += cur_all\n",
    "        if cur_odd > 1: sum_odd += cur_odd\n",
    "    if (sum_all == 0): return(0.5)\n",
    "    return sum_odd / sum_all\n",
    "                    "
   ]
  },
  {
   "cell_type": "code",
   "execution_count": 51,
   "id": "9569b42d-e8ea-41ec-9ca3-4f3303aeaf81",
   "metadata": {},
   "outputs": [
    {
     "data": {
      "text/plain": [
       "0.5"
      ]
     },
     "execution_count": 51,
     "metadata": {},
     "output_type": "execute_result"
    }
   ],
   "source": [
    "ROD(\"abc\")"
   ]
  },
  {
   "cell_type": "code",
   "execution_count": 52,
   "id": "19cdb806-b917-4c2a-93bc-89574a1eb4dc",
   "metadata": {},
   "outputs": [],
   "source": [
    "logdi =[\n",
    "    [4,7,8,7,4,6,7,5,7,3,6,8,7,9,3,7,3,9,8,9,6,7,6,5,7,4],\n",
    "    [7,4,2,0,8,1,1,1,6,3,0,7,2,1,7,1,0,6,5,3,7,1,2,0,6,0],\n",
    "    [8,2,5,2,7,3,2,8,7,2,7,6,2,1,8,2,2,6,4,7,6,1,3,0,4,0],\n",
    "    [7,6,5,6,8,6,5,5,8,4,3,6,6,5,7,5,3,6,7,7,6,5,6,0,6,2],\n",
    "    [9,7,8,8,8,7,6,6,7,4,5,8,7,9,7,7,5,9,9,8,5,7,7,6,7,3],\n",
    "    [7,4,5,3,7,6,4,4,7,2,2,6,5,3,8,4,0,7,5,7,6,2,4,0,5,0],\n",
    "    [7,5,5,4,7,5,5,7,7,3,2,6,5,5,7,5,2,7,6,6,6,3,5,0,5,1],\n",
    "    [8,5,4,4,9,4,3,4,8,3,1,5,5,4,8,4,2,6,5,7,6,2,5,0,5,0],\n",
    "    [7,5,8,7,7,7,7,4,4,2,5,8,7,9,7,6,4,7,8,8,4,7,3,5,0,5],\n",
    "    [5,0,0,0,4,0,0,0,3,0,0,0,0,0,5,0,0,0,0,0,6,0,0,0,0,0],\n",
    "    [5,4,3,2,7,4,2,4,6,2,2,4,3,6,5,3,1,3,6,5,3,0,4,0,5,0],\n",
    "    [8,5,5,7,8,5,4,4,8,2,5,8,5,4,8,5,2,4,6,6,6,5,5,0,7,1],\n",
    "    [8,6,4,3,8,4,2,4,7,1,0,4,6,4,7,6,1,3,6,5,6,1,4,0,6,0],\n",
    "    [8,6,7,8,8,6,9,6,8,4,6,6,5,6,8,5,3,5,8,9,6,5,6,3,6,2],\n",
    "    [6,6,7,7,6,8,6,6,6,3,6,7,8,9,7,7,3,9,7,8,9,6,8,4,5,3],\n",
    "    [7,3,3,3,7,3,2,6,7,2,1,7,3,2,7,6,0,7,6,6,6,0,3,0,4,0],\n",
    "    [0,0,0,0,0,0,0,0,0,0,0,0,0,0,0,0,0,0,0,0,6,0,0,0,0,0],\n",
    "    [8,6,6,7,9,6,6,5,8,3,6,6,6,6,8,6,3,6,8,8,6,5,6,0,7,1],\n",
    "    [8,6,7,6,8,6,5,7,8,4,6,6,6,6,8,7,4,5,8,9,7,4,7,0,6,2],\n",
    "    [8,6,6,5,8,6,5,9,8,3,3,6,6,5,9,6,2,7,8,8,7,4,7,0,7,2],\n",
    "    [6,6,7,6,6,4,6,4,6,2,3,7,7,8,5,6,0,8,8,8,3,3,4,3,4,3],\n",
    "    [6,1,0,0,8,0,0,0,7,0,0,0,0,0,5,0,0,0,1,0,2,1,0,0,3,0],\n",
    "    [7,3,3,4,7,3,2,8,7,2,2,4,4,6,7,3,0,5,5,5,2,1,4,0,3,1],\n",
    "    [4,1,4,2,4,2,0,3,5,1,0,1,1,0,3,5,0,1,2,5,2,0,2,2,3,0],\n",
    "    [6,6,6,6,6,6,5,5,6,3,3,5,6,5,8,6,3,5,7,6,4,3,6,2,4,2],\n",
    "    [4,0,0,0,5,0,0,0,3,0,0,2,0,0,3,0,0,0,1,0,2,0,0,0,4,4]\n",
    "]\n"
   ]
  },
  {
   "cell_type": "code",
   "execution_count": 53,
   "id": "a365151c-64df-4da3-bd7f-cc8762c4c73a",
   "metadata": {},
   "outputs": [],
   "source": [
    "ascii_lowercase = 'abcdefghijklmnopqrstuvwxyz'\n",
    "eng_alp = {}\n",
    "for i in range (len(ascii_lowercase)):\n",
    "    eng_alp[ascii_lowercase[i]] = i\n",
    "def LDI(strk):\n",
    "    strk = strk.lower()\n",
    "    mass = strk.split()\n",
    "    sumi = 0\n",
    "    counter = 0\n",
    "    for it in mass:\n",
    "        for i in range (len(it) - 1):\n",
    "            sumi += logdi[eng_alp[it[i]]][eng_alp[it[i + 1]]]\n",
    "            counter += 1\n",
    "    if counter == 0: return 0\n",
    "    return sumi / counter"
   ]
  },
  {
   "cell_type": "code",
   "execution_count": 54,
   "id": "a6d014ac-1416-4d2e-8bd1-675fd81ac7f3",
   "metadata": {},
   "outputs": [
    {
     "name": "stdout",
     "output_type": "stream",
     "text": [
      "4.464788732394366\n"
     ]
    }
   ],
   "source": [
    "s = \"dnoez RYUIX ZXWAN DL DKXZ BFDXNOD LMYMKQBAK SQSDG WCSPCMDDTDDDOIY Hasowunc qs Dnc Lqfwxe Pse Ddwfytn\"\n",
    "print(LDI(s))"
   ]
  },
  {
   "cell_type": "code",
   "execution_count": 55,
   "id": "6f0e98f4-6435-4844-865f-018ad6fad776",
   "metadata": {},
   "outputs": [],
   "source": [
    "import os\n",
    "path = \"E:/practise_pred/\""
   ]
  },
  {
   "cell_type": "code",
   "execution_count": 56,
   "id": "d573f15e-b1c2-4caf-a971-6b4c13d0e7fd",
   "metadata": {},
   "outputs": [
    {
     "data": {
      "text/plain": [
       "['bazeries_143214.txt',\n",
       " 'bazeries_3215124.txt',\n",
       " 'bazeries_32151248.txt',\n",
       " 'bazeries_81257.txt',\n",
       " 'beaufort_fbxzaz.txt',\n",
       " 'beaufort_qpxkayre.txt',\n",
       " 'beaufort_rqwrf.txt',\n",
       " 'beaufort_xwjpkmn.txt',\n",
       " 'bifid_12345678.txt',\n",
       " 'bifid_14325.txt',\n",
       " 'bifid_512345.txt',\n",
       " 'bifid_8740987.txt',\n",
       " 'data.csv',\n",
       " 'playfair_playfirexhbndqmkcogstuzwv.txt',\n",
       " 'playfair_playfirexmbcdghknoqstuvwz.txt',\n",
       " 'playfair_playfwrexmbcdgstuoqhknviz.txt',\n",
       " 'playfair_rlyafipexmbcdohkngqsutvwz.txt',\n",
       " 'pred.txt',\n",
       " 'twosquare_dsads_dedwd.txt',\n",
       " 'twosquare_example_keyword.txt',\n",
       " 'twosquare_plvbazik_ioujdmns.txt',\n",
       " 'twosquare_rwqrew_rrnbcd.txt']"
      ]
     },
     "execution_count": 56,
     "metadata": {},
     "output_type": "execute_result"
    }
   ],
   "source": [
    "dir_list1 = os.listdir(path)\n",
    "dir_list1"
   ]
  },
  {
   "cell_type": "code",
   "execution_count": 57,
   "id": "4872f050-ba9f-40c8-abb7-4838610de8cb",
   "metadata": {},
   "outputs": [],
   "source": [
    "data = [[\"NUC\", \"CSS\", \"IC\", \"MIC\", \"MKA\", \"DIC\", \"EDI\", \"LR\", \"ROD\", \"LDI\", \"SDD\", \"cipher\"]]"
   ]
  },
  {
   "cell_type": "code",
   "execution_count": 58,
   "id": "8451cfe4-c708-4c00-a95b-d5b55cd16658",
   "metadata": {},
   "outputs": [],
   "source": [
    "def cipher(strk):\n",
    "    i = 0\n",
    "    total = \"\"\n",
    "    while(strk[i] != '_'):\n",
    "        total += strk[i]\n",
    "        i += 1\n",
    "    return total"
   ]
  },
  {
   "cell_type": "code",
   "execution_count": 59,
   "id": "f615bd9d-250c-4b47-a078-d494904db737",
   "metadata": {},
   "outputs": [
    {
     "name": "stdout",
     "output_type": "stream",
     "text": [
      "bazeries_143214.txt\n",
      "bazeries_3215124.txt\n",
      "bazeries_32151248.txt\n",
      "bazeries_81257.txt\n",
      "beaufort_fbxzaz.txt\n",
      "beaufort_qpxkayre.txt\n",
      "beaufort_rqwrf.txt\n",
      "beaufort_xwjpkmn.txt\n",
      "bifid_12345678.txt\n",
      "bifid_14325.txt\n",
      "bifid_512345.txt\n",
      "bifid_8740987.txt\n",
      "data.csv\n",
      "playfair_playfirexhbndqmkcogstuzwv.txt\n",
      "playfair_playfirexmbcdghknoqstuvwz.txt\n",
      "playfair_playfwrexmbcdgstuoqhknviz.txt\n",
      "playfair_rlyafipexmbcdohkngqsutvwz.txt\n",
      "pred.txt\n",
      "twosquare_dsads_dedwd.txt\n",
      "twosquare_example_keyword.txt\n",
      "twosquare_plvbazik_ioujdmns.txt\n",
      "twosquare_rwqrew_rrnbcd.txt\n"
     ]
    }
   ],
   "source": [
    "import csv\n",
    "with open('E:/practise_pred/data.csv', 'w', newline='') as csvfile:\n",
    "    for w in dir_list1:\n",
    "        print(w)\n",
    "        if w != \"pred.txt\":\n",
    "            with open(\"E:/practise_pred/\" + w, 'r', encoding=\"utf-8\") as f:\n",
    "                while True:\n",
    "                    line = f.readline()\n",
    "                    if not line:\n",
    "                        break\n",
    "                    if (len(line) >= 200) : \n",
    "                        chunk = [NUC(line), CSS(line), IC(line), MIC(line), MKA(line), DIC(line), EDI(line), LR(line), ROD(line), LDI(line), SDD(line), cipher(w)]\n",
    "                        data.append(chunk)\n",
    "    writer = csv.writer(csvfile)\n",
    "    writer.writerows(data)"
   ]
  },
  {
   "cell_type": "code",
   "execution_count": 4,
   "id": "72839a1e-e116-4f54-8ed9-74f6ce3e6c1b",
   "metadata": {},
   "outputs": [],
   "source": [
    "import numpy as np\n",
    "import pandas as pd\n",
    "input_file = 'E:/practise_pred/data.csv'\n"
   ]
  },
  {
   "cell_type": "code",
   "execution_count": 5,
   "id": "d3521839-c7c1-462c-8f82-a50aa15fb7ef",
   "metadata": {},
   "outputs": [],
   "source": [
    "df = pd.read_csv(input_file, header = 0)"
   ]
  },
  {
   "cell_type": "code",
   "execution_count": 6,
   "id": "d1a8b728-c718-4672-83d8-ce8414b715ad",
   "metadata": {},
   "outputs": [
    {
     "data": {
      "text/plain": [
       "cipher\n",
       "bazeries     200000\n",
       "beaufort     200000\n",
       "bifid        200000\n",
       "playfair     200000\n",
       "twosquare    200000\n",
       "Name: count, dtype: int64"
      ]
     },
     "execution_count": 6,
     "metadata": {},
     "output_type": "execute_result"
    }
   ],
   "source": [
    "df[\"cipher\"].value_counts()"
   ]
  },
  {
   "cell_type": "code",
   "execution_count": 7,
   "id": "8d2b0f23-d97e-4843-a80d-4a8107530f50",
   "metadata": {},
   "outputs": [
    {
     "data": {
      "text/plain": [
       "pandas.core.frame.DataFrame"
      ]
     },
     "execution_count": 7,
     "metadata": {},
     "output_type": "execute_result"
    }
   ],
   "source": [
    "type(df)"
   ]
  },
  {
   "cell_type": "code",
   "execution_count": 51,
   "id": "7c090442-8a12-45ce-a8df-f3cf0d6d8462",
   "metadata": {},
   "outputs": [],
   "source": [
    "from sklearn.model_selection import train_test_split\n",
    "train, test = train_test_split(df, test_size=0.2)\n",
    "train_label = train[\"cipher\"]\n",
    "test_label = test[\"cipher\"]\n",
    "train = train.drop('cipher', axis=1)\n",
    "test = test.drop('cipher', axis=1)\n"
   ]
  },
  {
   "cell_type": "code",
   "execution_count": 52,
   "id": "cb85368b-b0f5-4cc9-84c2-e44ef211970b",
   "metadata": {},
   "outputs": [
    {
     "name": "stdout",
     "output_type": "stream",
     "text": [
      "['bazeries', 'beaufort', 'bifid', 'playfair', 'twosquare']\n"
     ]
    }
   ],
   "source": [
    "import torch\n",
    "from torch.utils.data import DataLoader, TensorDataset\n",
    "from sklearn import preprocessing \n",
    "label_encoder = preprocessing.LabelEncoder() \n",
    "train_label= label_encoder.fit_transform(train_label) \n",
    "print(list(label_encoder.classes_))\n",
    "train_torch = torch.from_numpy(train.values).float()\n",
    "label_torch = torch.from_numpy(train_label)\n"
   ]
  },
  {
   "cell_type": "code",
   "execution_count": null,
   "id": "9a34158c-7bdc-4d5a-aff3-1ecddb2a2a6c",
   "metadata": {},
   "outputs": [],
   "source": []
  },
  {
   "cell_type": "code",
   "execution_count": 53,
   "id": "53640472-bd8d-45b8-b4d7-ebfb56ea7d3c",
   "metadata": {},
   "outputs": [
    {
     "data": {
      "text/plain": [
       "<torch.utils.data.dataset.TensorDataset at 0x1f67e1fb890>"
      ]
     },
     "execution_count": 53,
     "metadata": {},
     "output_type": "execute_result"
    }
   ],
   "source": [
    "dataset = TensorDataset(train_torch, label_torch)\n",
    "dataset"
   ]
  },
  {
   "cell_type": "code",
   "execution_count": 54,
   "id": "0f4950a7-5d6a-447d-ae74-245bf52c4797",
   "metadata": {},
   "outputs": [],
   "source": [
    "batch_size = 32\n",
    "dataloader = DataLoader(dataset, batch_size=batch_size, shuffle=True)"
   ]
  },
  {
   "cell_type": "code",
   "execution_count": 55,
   "id": "0107a33c-8956-4092-9582-21fe4441db11",
   "metadata": {},
   "outputs": [
    {
     "data": {
      "text/plain": [
       "332570     beaufort\n",
       "854842    twosquare\n",
       "735999     playfair\n",
       "364033     beaufort\n",
       "788528     playfair\n",
       "            ...    \n",
       "262929     beaufort\n",
       "278088     beaufort\n",
       "194626     bazeries\n",
       "338288     beaufort\n",
       "429267        bifid\n",
       "Name: cipher, Length: 200000, dtype: object"
      ]
     },
     "execution_count": 55,
     "metadata": {},
     "output_type": "execute_result"
    }
   ],
   "source": [
    "test_label"
   ]
  },
  {
   "cell_type": "code",
   "execution_count": 56,
   "id": "259c2119-7a97-4109-befe-f140285bf7ac",
   "metadata": {},
   "outputs": [],
   "source": [
    "test_label= label_encoder.transform(test_label)\n",
    "test_torch = torch.from_numpy(test.values).float()\n",
    "test_label_torch = torch.from_numpy(test_label)\n",
    "dataset_1 = TensorDataset(test_torch, test_label_torch)\n",
    "val_dataloader = DataLoader(dataset, batch_size=batch_size, shuffle=True)"
   ]
  },
  {
   "cell_type": "code",
   "execution_count": 57,
   "id": "f32497a0-1bf8-4a11-9faa-02ae4b6d2b4e",
   "metadata": {},
   "outputs": [
    {
     "name": "stdout",
     "output_type": "stream",
     "text": [
      "['bazeries', 'beaufort', 'bifid', 'playfair', 'twosquare']\n"
     ]
    }
   ],
   "source": [
    "print(list(label_encoder.classes_))"
   ]
  },
  {
   "cell_type": "code",
   "execution_count": 58,
   "id": "f37ace8f-5065-4c78-8f17-5539bce01105",
   "metadata": {},
   "outputs": [],
   "source": [
    "import torch\n",
    "from torch import nn\n",
    "import torch.nn.functional as F\n",
    "from tqdm import tqdm, tqdm_notebook\n",
    "import matplotlib.pyplot as plt\n",
    "from torch.optim import lr_scheduler"
   ]
  },
  {
   "cell_type": "code",
   "execution_count": 59,
   "id": "a6edfeaa-d4f4-4634-aeb2-ad1621ac841a",
   "metadata": {},
   "outputs": [],
   "source": [
    "class LeNet(nn.Module):\n",
    "    def __init__(self):\n",
    "        super(LeNet, self).__init__()\n",
    "        # 1 input, 5 hidden, 1 output\n",
    "        self.fc1 = nn.Linear(11,12) \n",
    "        self.fc2 = nn.Linear(12, 12)\n",
    "        self.fc3 = nn.Linear(12, 12)\n",
    "        self.fc4 = nn.Linear(12, 12)\n",
    "        self.fc5 = nn.Linear(12, 12)\n",
    "        self.fc6 = nn.Linear(12, 12)\n",
    "        self.fc7 = nn.Linear(12, 5)\n",
    "    def forward(self, x):\n",
    "        x = (F.relu(self.fc1(x))) #YOUR CODE. Apply layers created in __init__.\n",
    "        x = (F.relu(self.fc2(x)))\n",
    "        x = (F.relu(self.fc3(x)))\n",
    "        x = (F.relu(self.fc4(x)))\n",
    "        x = (F.relu(self.fc5(x)))\n",
    "        x = (F.relu(self.fc6(x)))\n",
    "        x = ((self.fc7(x)))\n",
    "        return x\n"
   ]
  },
  {
   "cell_type": "code",
   "execution_count": 60,
   "id": "1e4b274f-365c-4d4d-a9be-6e233f61defa",
   "metadata": {},
   "outputs": [],
   "source": [
    "def fit_epoch(model, train_loader, criterion, optimizer):\n",
    "    running_loss = 0.0\n",
    "    running_corrects = 0\n",
    "    processed_data = 0\n",
    "\n",
    "    for inputs, labels in train_loader:\n",
    "        #print(inputs.shape)\n",
    "        inputs = inputs.to(DEVICE)\n",
    "        labels = labels.type(torch.LongTensor)\n",
    "        labels = labels.to(DEVICE)\n",
    "        optimizer.zero_grad()\n",
    "        \n",
    "        outputs = model(inputs)\n",
    "        # print(outputs)\n",
    "        # print(labels)\n",
    "        loss = criterion(outputs, labels)\n",
    "        loss.backward()\n",
    "        optimizer.step()\n",
    "        preds = torch.argmax(outputs, 1)\n",
    "        #print(preds)\n",
    "        running_loss += loss.item() * inputs.size(0)\n",
    "        running_corrects += torch.sum(preds == labels.data)\n",
    "        processed_data += inputs.size(0)\n",
    "\n",
    "    train_loss = running_loss / processed_data\n",
    "    train_acc = running_corrects.cpu().numpy() / processed_data\n",
    "    return train_loss, train_acc"
   ]
  },
  {
   "cell_type": "code",
   "execution_count": 61,
   "id": "c00b3bc9-c97b-4270-9b25-9c2f834f3c6d",
   "metadata": {},
   "outputs": [],
   "source": [
    "def eval_epoch(model, val_loader, criterion):\n",
    "    model.eval()\n",
    "    running_loss = 0.0\n",
    "    running_corrects = 0\n",
    "    processed_size = 0\n",
    "\n",
    "    for inputs, labels in val_loader:\n",
    "        labels = labels.type(torch.LongTensor)\n",
    "        inputs = inputs.to(DEVICE)\n",
    "        labels = labels.to(DEVICE)\n",
    "\n",
    "        with torch.set_grad_enabled(False):\n",
    "            outputs = model(inputs)\n",
    "            loss = criterion(outputs, labels)\n",
    "            preds = torch.argmax(outputs, 1)\n",
    "\n",
    "        running_loss += loss.item() * inputs.size(0)\n",
    "        running_corrects += torch.sum(preds == labels.data)\n",
    "        processed_size += inputs.size(0)\n",
    "    val_loss = running_loss / processed_size\n",
    "    val_acc = running_corrects.double() / processed_size\n",
    "    return val_loss, val_acc"
   ]
  },
  {
   "cell_type": "code",
   "execution_count": 62,
   "id": "2a45c567-5af8-4ad9-b746-4667655404f0",
   "metadata": {},
   "outputs": [],
   "source": [
    "def train(train_files, val_files, model, epochs, batch_size):\n",
    "    train_loader = DataLoader(train_files, batch_size=batch_size, shuffle=True)\n",
    "    val_loader = DataLoader(val_files, batch_size=batch_size, shuffle=False)\n",
    "\n",
    "    history = []\n",
    "    log_template = \"\\nEpoch {ep:03d} train_loss: {t_loss:0.4f} \\\n",
    "    val_loss {v_loss:0.4f} train_acc {t_acc:0.4f} val_acc {v_acc:0.4f}\"\n",
    "\n",
    "    with tqdm(desc=\"epoch\", total=epochs) as pbar_outer:\n",
    "        opt = torch.optim.AdamW(model.parameters(), lr=1e-4) #AdamW вместо Adam\n",
    "        exp_lr_scheduler = lr_scheduler.StepLR(opt, step_size=3, gamma=0.1)  #меняем learning rate \n",
    "        criterion = nn.CrossEntropyLoss()\n",
    "\n",
    "        for epoch in range(epochs):\n",
    "            train_loss, train_acc = fit_epoch(model, train_loader, criterion, opt)\n",
    "            print(\"loss\", train_loss)\n",
    "\n",
    "            val_loss, val_acc = eval_epoch(model, val_loader, criterion)\n",
    "            history.append((train_loss, train_acc, val_loss, val_acc))\n",
    "\n",
    "            pbar_outer.update(1)\n",
    "            tqdm.write(log_template.format(ep=epoch+1, t_loss=train_loss,\\\n",
    "                                           v_loss=val_loss, t_acc=train_acc, v_acc=val_acc))\n",
    "\n",
    "    return history"
   ]
  },
  {
   "cell_type": "code",
   "execution_count": 63,
   "id": "06440e45-be9b-4490-a891-0cf80c6b8182",
   "metadata": {},
   "outputs": [],
   "source": [
    "def predict(model, test_loader):\n",
    "    with torch.no_grad():\n",
    "        logits = []\n",
    "\n",
    "        for inputs in test_loader:\n",
    "            inputs = inputs.to(DEVICE)\n",
    "            model.eval()\n",
    "            outputs = model(inputs).cpu()\n",
    "            logits.append(outputs)\n",
    "\n",
    "    probs = nn.functional.softmax(torch.cat(logits), dim=-1).numpy()\n",
    "    return probs"
   ]
  },
  {
   "cell_type": "code",
   "execution_count": 64,
   "id": "8e67b4ff-abff-43d8-aece-ff06bc3a8482",
   "metadata": {},
   "outputs": [],
   "source": [
    "DEVICE = torch.device(\"cuda\")\n",
    "model = LeNet().to(DEVICE)"
   ]
  },
  {
   "cell_type": "code",
   "execution_count": 65,
   "id": "b9c310ec-d84b-491f-b452-8f33840379f1",
   "metadata": {},
   "outputs": [
    {
     "name": "stderr",
     "output_type": "stream",
     "text": [
      "epoch:   0%|                                                                                    | 0/20 [00:00<?, ?it/s]"
     ]
    },
    {
     "name": "stdout",
     "output_type": "stream",
     "text": [
      "loss 1.2022245812487602\n"
     ]
    },
    {
     "name": "stderr",
     "output_type": "stream",
     "text": [
      "epoch:   5%|███▊                                                                        | 1/20 [01:16<24:20, 76.88s/it]"
     ]
    },
    {
     "name": "stdout",
     "output_type": "stream",
     "text": [
      "\n",
      "Epoch 001 train_loss: 1.2022     val_loss 1.0581 train_acc 0.4746 val_acc 0.5351\n",
      "loss 1.0030874322772025\n"
     ]
    },
    {
     "name": "stderr",
     "output_type": "stream",
     "text": [
      "epoch:  10%|███████▌                                                                    | 2/20 [02:35<23:19, 77.73s/it]"
     ]
    },
    {
     "name": "stdout",
     "output_type": "stream",
     "text": [
      "\n",
      "Epoch 002 train_loss: 1.0031     val_loss 0.9606 train_acc 0.5587 val_acc 0.5810\n",
      "loss 0.9210091664493084\n"
     ]
    },
    {
     "name": "stderr",
     "output_type": "stream",
     "text": [
      "epoch:  15%|███████████▍                                                                | 3/20 [03:54<22:09, 78.23s/it]"
     ]
    },
    {
     "name": "stdout",
     "output_type": "stream",
     "text": [
      "\n",
      "Epoch 003 train_loss: 0.9210     val_loss 0.8956 train_acc 0.6000 val_acc 0.6127\n",
      "loss 0.8857688217401505\n"
     ]
    },
    {
     "name": "stderr",
     "output_type": "stream",
     "text": [
      "epoch:  20%|███████████████▏                                                            | 4/20 [05:14<21:08, 79.30s/it]"
     ]
    },
    {
     "name": "stdout",
     "output_type": "stream",
     "text": [
      "\n",
      "Epoch 004 train_loss: 0.8858     val_loss 0.8683 train_acc 0.6183 val_acc 0.6278\n",
      "loss 0.8668531483244896\n"
     ]
    },
    {
     "name": "stderr",
     "output_type": "stream",
     "text": [
      "epoch:  25%|███████████████████                                                         | 5/20 [06:36<20:02, 80.17s/it]"
     ]
    },
    {
     "name": "stdout",
     "output_type": "stream",
     "text": [
      "\n",
      "Epoch 005 train_loss: 0.8669     val_loss 0.8576 train_acc 0.6277 val_acc 0.6308\n",
      "loss 0.8570910144424438\n"
     ]
    },
    {
     "name": "stderr",
     "output_type": "stream",
     "text": [
      "epoch:  30%|██████████████████████▊                                                     | 6/20 [07:57<18:47, 80.52s/it]"
     ]
    },
    {
     "name": "stdout",
     "output_type": "stream",
     "text": [
      "\n",
      "Epoch 006 train_loss: 0.8571     val_loss 0.8471 train_acc 0.6328 val_acc 0.6361\n",
      "loss 0.850815487638712\n"
     ]
    },
    {
     "name": "stderr",
     "output_type": "stream",
     "text": [
      "epoch:  35%|██████████████████████████▌                                                 | 7/20 [09:21<17:41, 81.63s/it]"
     ]
    },
    {
     "name": "stdout",
     "output_type": "stream",
     "text": [
      "\n",
      "Epoch 007 train_loss: 0.8508     val_loss 0.8464 train_acc 0.6358 val_acc 0.6360\n",
      "loss 0.8452124093592167\n"
     ]
    },
    {
     "name": "stderr",
     "output_type": "stream",
     "text": [
      "epoch:  40%|██████████████████████████████▍                                             | 8/20 [10:43<16:18, 81.56s/it]"
     ]
    },
    {
     "name": "stdout",
     "output_type": "stream",
     "text": [
      "\n",
      "Epoch 008 train_loss: 0.8452     val_loss 0.8357 train_acc 0.6381 val_acc 0.6424\n",
      "loss 0.8410748657357693\n"
     ]
    },
    {
     "name": "stderr",
     "output_type": "stream",
     "text": [
      "epoch:  45%|██████████████████████████████████▏                                         | 9/20 [12:06<15:03, 82.17s/it]"
     ]
    },
    {
     "name": "stdout",
     "output_type": "stream",
     "text": [
      "\n",
      "Epoch 009 train_loss: 0.8411     val_loss 0.8481 train_acc 0.6398 val_acc 0.6409\n",
      "loss 0.836146715157032\n"
     ]
    },
    {
     "name": "stderr",
     "output_type": "stream",
     "text": [
      "epoch:  50%|█████████████████████████████████████▌                                     | 10/20 [13:25<13:31, 81.12s/it]"
     ]
    },
    {
     "name": "stdout",
     "output_type": "stream",
     "text": [
      "\n",
      "Epoch 010 train_loss: 0.8361     val_loss 0.8653 train_acc 0.6427 val_acc 0.6341\n",
      "loss 0.8315495122849941\n"
     ]
    },
    {
     "name": "stderr",
     "output_type": "stream",
     "text": [
      "epoch:  55%|█████████████████████████████████████████▎                                 | 11/20 [14:46<12:10, 81.12s/it]"
     ]
    },
    {
     "name": "stdout",
     "output_type": "stream",
     "text": [
      "\n",
      "Epoch 011 train_loss: 0.8315     val_loss 0.8247 train_acc 0.6456 val_acc 0.6483\n",
      "loss 0.8270185900449752\n"
     ]
    },
    {
     "name": "stderr",
     "output_type": "stream",
     "text": [
      "epoch:  60%|█████████████████████████████████████████████                              | 12/20 [16:08<10:49, 81.22s/it]"
     ]
    },
    {
     "name": "stdout",
     "output_type": "stream",
     "text": [
      "\n",
      "Epoch 012 train_loss: 0.8270     val_loss 0.8166 train_acc 0.6491 val_acc 0.6552\n",
      "loss 0.8210404395473003\n"
     ]
    },
    {
     "name": "stderr",
     "output_type": "stream",
     "text": [
      "epoch:  65%|████████████████████████████████████████████████▊                          | 13/20 [17:29<09:29, 81.31s/it]"
     ]
    },
    {
     "name": "stdout",
     "output_type": "stream",
     "text": [
      "\n",
      "Epoch 013 train_loss: 0.8210     val_loss 0.8252 train_acc 0.6526 val_acc 0.6492\n",
      "loss 0.8154292159044743\n"
     ]
    },
    {
     "name": "stderr",
     "output_type": "stream",
     "text": [
      "epoch:  70%|████████████████████████████████████████████████████▌                      | 14/20 [18:49<08:06, 81.03s/it]"
     ]
    },
    {
     "name": "stdout",
     "output_type": "stream",
     "text": [
      "\n",
      "Epoch 014 train_loss: 0.8154     val_loss 0.8063 train_acc 0.6558 val_acc 0.6605\n",
      "loss 0.811302745873928\n"
     ]
    },
    {
     "name": "stderr",
     "output_type": "stream",
     "text": [
      "epoch:  75%|████████████████████████████████████████████████████████▎                  | 15/20 [20:11<06:46, 81.20s/it]"
     ]
    },
    {
     "name": "stdout",
     "output_type": "stream",
     "text": [
      "\n",
      "Epoch 015 train_loss: 0.8113     val_loss 0.8047 train_acc 0.6578 val_acc 0.6615\n",
      "loss 0.807200997056961\n"
     ]
    },
    {
     "name": "stderr",
     "output_type": "stream",
     "text": [
      "epoch:  80%|████████████████████████████████████████████████████████████               | 16/20 [21:32<05:24, 81.01s/it]"
     ]
    },
    {
     "name": "stdout",
     "output_type": "stream",
     "text": [
      "\n",
      "Epoch 016 train_loss: 0.8072     val_loss 0.8001 train_acc 0.6598 val_acc 0.6619\n",
      "loss 0.8035989440906047\n"
     ]
    },
    {
     "name": "stderr",
     "output_type": "stream",
     "text": [
      "epoch:  85%|███████████████████████████████████████████████████████████████▊           | 17/20 [22:51<04:01, 80.44s/it]"
     ]
    },
    {
     "name": "stdout",
     "output_type": "stream",
     "text": [
      "\n",
      "Epoch 017 train_loss: 0.8036     val_loss 0.7964 train_acc 0.6614 val_acc 0.6661\n",
      "loss 0.800058383911848\n"
     ]
    },
    {
     "name": "stderr",
     "output_type": "stream",
     "text": [
      "epoch:  90%|███████████████████████████████████████████████████████████████████▌       | 18/20 [24:12<02:41, 80.54s/it]"
     ]
    },
    {
     "name": "stdout",
     "output_type": "stream",
     "text": [
      "\n",
      "Epoch 018 train_loss: 0.8001     val_loss 0.7898 train_acc 0.6632 val_acc 0.6678\n",
      "loss 0.7962283026993274\n"
     ]
    },
    {
     "name": "stderr",
     "output_type": "stream",
     "text": [
      "epoch:  95%|███████████████████████████████████████████████████████████████████████▎   | 19/20 [25:33<01:20, 80.81s/it]"
     ]
    },
    {
     "name": "stdout",
     "output_type": "stream",
     "text": [
      "\n",
      "Epoch 019 train_loss: 0.7962     val_loss 0.7872 train_acc 0.6653 val_acc 0.6690\n",
      "loss 0.7925694859814644\n"
     ]
    },
    {
     "name": "stderr",
     "output_type": "stream",
     "text": [
      "epoch: 100%|███████████████████████████████████████████████████████████████████████████| 20/20 [26:54<00:00, 80.73s/it]"
     ]
    },
    {
     "name": "stdout",
     "output_type": "stream",
     "text": [
      "\n",
      "Epoch 020 train_loss: 0.7926     val_loss 0.7827 train_acc 0.6674 val_acc 0.6727\n"
     ]
    },
    {
     "name": "stderr",
     "output_type": "stream",
     "text": [
      "\n"
     ]
    }
   ],
   "source": [
    "history = train(dataset, dataset_1, model=model, epochs=20, batch_size=32)"
   ]
  },
  {
   "cell_type": "code",
   "execution_count": 21,
   "id": "73ba10c1-107b-4d85-b5ef-8fac02303120",
   "metadata": {},
   "outputs": [],
   "source": [
    "loss, acc, val_loss, val_acc = zip(*history)"
   ]
  },
  {
   "cell_type": "code",
   "execution_count": 22,
   "id": "f23121cb-1924-4b9c-8102-cb38356abc96",
   "metadata": {},
   "outputs": [
    {
     "data": {
      "image/png": "[encoded data removed]",
      "text/plain": [
       "<Figure size 1500x900 with 1 Axes>"
      ]
     },
     "metadata": {},
     "output_type": "display_data"
    }
   ],
   "source": [
    "plt.figure(figsize=(15, 9))\n",
    "plt.plot(loss, label=\"train_loss\")\n",
    "plt.plot(val_loss, label=\"val_loss\")\n",
    "plt.legend(loc='best')\n",
    "plt.xlabel(\"epochs\")\n",
    "plt.ylabel(\"loss\")\n",
    "plt.show()"
   ]
  },
  {
   "cell_type": "code",
   "execution_count": 24,
   "id": "f063bbcb-f5dc-4455-b525-847dcd8461ce",
   "metadata": {},
   "outputs": [],
   "source": [
    "torch.save(model.state_dict(), 'LeNet_weights.pth')"
   ]
  },
  {
   "cell_type": "code",
   "execution_count": null,
   "id": "fd2ca685-294d-489b-b493-63eca659056d",
   "metadata": {},
   "outputs": [],
   "source": []
  }
 ],
 "metadata": {
  "kernelspec": {
   "display_name": "Python 3 (ipykernel)",
   "language": "python",
   "name": "python3"
  },
  "language_info": {
   "codemirror_mode": {
    "name": "ipython",
    "version": 3
   },
   "file_extension": ".py",
   "mimetype": "text/x-python",
   "name": "python",
   "nbconvert_exporter": "python",
   "pygments_lexer": "ipython3",
   "version": "3.12.0"
  }
 },
 "nbformat": 4,
 "nbformat_minor": 5
}
